{
 "cells": [
  {
   "cell_type": "code",
   "execution_count": null,
   "id": "895b554d",
   "metadata": {
    "pycharm": {
     "name": "#%%\n"
    }
   },
   "outputs": [],
   "source": [
    "import tensorflow as tf\n",
    "# noinspection PyUnresolvedReferences\n",
    "import tensorflow.keras as keras\n",
    "# noinspection PyUnresolvedReferences\n",
    "import tensorflow.keras.layers as layers\n",
    "import pandas as pd\n",
    "from sklearn.model_selection import train_test_split"
   ]
  },
  {
   "cell_type": "code",
   "execution_count": null,
   "id": "7556a3cd",
   "metadata": {
    "lines_to_next_cell": 0,
    "pycharm": {
     "name": "#%%\n"
    }
   },
   "outputs": [],
   "source": [
    "# Regular variable assignments not working???\n",
    "# noinspection PyStatementEffect\n",
    "(df := pd.read_csv(\"data/news.csv\"))\n",
    "df.drop(columns=[\"Unnamed: 0\"], inplace=True)\n",
    "X = df.drop(columns=[\"label\"])\n",
    "y = df.drop(columns=[\"title\", \"text\"])"
   ]
  },
  {
   "cell_type": "code",
   "execution_count": null,
   "id": "d6b38b84",
   "metadata": {
    "lines_to_next_cell": 0,
    "pycharm": {
     "name": "#%%\n"
    }
   },
   "outputs": [],
   "source": [
    "y[\"label\"] = y[\"label\"].apply(lambda x: 0 if x == \"FAKE\" else 1)"
   ]
  },
  {
   "cell_type": "code",
   "execution_count": null,
   "id": "cbe254ba",
   "metadata": {
    "lines_to_next_cell": 0,
    "pycharm": {
     "name": "#%%\n"
    }
   },
   "outputs": [],
   "source": [
    "X_train, X_test, y_train, y_test = train_test_split(\n",
    "    X, y, test_size=0.2, random_state=42\n",
    ")"
   ]
  },
  {
   "cell_type": "code",
   "execution_count": null,
   "id": "155e23c7",
   "metadata": {
    "lines_to_next_cell": 0,
    "pycharm": {
     "name": "#%%\n"
    }
   },
   "outputs": [],
   "source": [
    "X_train_tensor = tf.convert_to_tensor(X_train, dtype=tf.string)"
   ]
  },
  {
   "cell_type": "code",
   "execution_count": null,
   "id": "f26b88e9",
   "metadata": {
    "lines_to_next_cell": 0,
    "pycharm": {
     "name": "#%%\n"
    }
   },
   "outputs": [],
   "source": [
    "# title,text,label\n",
    "title_vectorizer = layers.TextVectorization(\n",
    "    output_sequence_length=100,\n",
    "    max_tokens=1000,\n",
    "    pad_to_max_tokens=True,\n",
    ")\n",
    "text_vectorizer = layers.TextVectorization(\n",
    "    output_sequence_length=100,\n",
    "    max_tokens=1000,\n",
    "    pad_to_max_tokens=True,\n",
    ")"
   ]
  },
  {
   "cell_type": "code",
   "execution_count": null,
   "id": "0ad58b27",
   "metadata": {
    "lines_to_next_cell": 0,
    "pycharm": {
     "name": "#%%\n"
    }
   },
   "outputs": [],
   "source": [
    "title_vectorizer.adapt(X_train_tensor[0])\n",
    "text_vectorizer.adapt(X_train_tensor[1])"
   ]
  },
  {
   "cell_type": "code",
   "execution_count": null,
   "id": "bc6b6aec",
   "metadata": {
    "lines_to_next_cell": 0,
    "pycharm": {
     "name": "#%%\n"
    }
   },
   "outputs": [],
   "source": [
    "inp = layers.Input(shape=(2,), dtype=tf.string)\n",
    "title = layers.Lambda(lambda x: x[::1, :1])(inp)\n",
    "text = layers.Lambda(lambda x: x[::1, 1:])(inp)\n",
    "\n",
    "title_vec = title_vectorizer(title)\n",
    "text_vec = text_vectorizer(text)\n",
    "\n",
    "out = layers.concatenate([title_vec, text_vec])\n",
    "out = layers.Dense(32, activation=\"relu\")(out)\n",
    "out = layers.Dense(64)(out)\n",
    "out = layers.Dense(1, activation=\"sigmoid\")(out)\n",
    "model = keras.Model(inputs=inp, outputs=out)"
   ]
  },
  {
   "cell_type": "code",
   "execution_count": null,
   "id": "41a4dd42",
   "metadata": {
    "lines_to_next_cell": 0,
    "pycharm": {
     "name": "#%%\n"
    }
   },
   "outputs": [],
   "source": [
    "model.summary()"
   ]
  },
  {
   "cell_type": "code",
   "execution_count": null,
   "id": "bff9647b",
   "metadata": {
    "lines_to_next_cell": 0,
    "pycharm": {
     "name": "#%%\n"
    }
   },
   "outputs": [],
   "source": [
    "model.compile(\n",
    "    loss=tf.keras.losses.BinaryCrossentropy(from_logits=True),\n",
    "    optimizer=\"sgd\",\n",
    "    metrics=tf.metrics.BinaryAccuracy(threshold=0.0),\n",
    ")"
   ]
  },
  {
   "cell_type": "code",
   "execution_count": null,
   "id": "34d9eb3b",
   "metadata": {
    "lines_to_next_cell": 0,
    "pycharm": {
     "name": "#%%\n"
    }
   },
   "outputs": [],
   "source": [
    "history = model.fit(\n",
    "    tf.convert_to_tensor(X_train),\n",
    "    tf.convert_to_tensor(y_train),\n",
    "    epochs=10,\n",
    "    batch_size=32,\n",
    ")"
   ]
  },
  {
   "cell_type": "code",
   "execution_count": null,
   "id": "8640d206",
   "metadata": {
    "pycharm": {
     "name": "#%%\n"
    }
   },
   "outputs": [],
   "source": [
    "results = model.evaluate(\n",
    "    tf.convert_to_tensor(X_test),\n",
    "    tf.convert_to_tensor(y_test),\n",
    "    batch_size=32,\n",
    ")\n",
    "print(\"test loss, test acc:\", results)"
   ]
  }
 ],
 "metadata": {
  "jupytext": {
   "cell_metadata_filter": "-all",
   "main_language": "python",
   "notebook_metadata_filter": "-all"
  }
 },
 "nbformat": 4,
 "nbformat_minor": 5
}